{
 "cells": [
  {
   "cell_type": "code",
   "execution_count": 1,
   "metadata": {
    "collapsed": true
   },
   "outputs": [],
   "source": [
    "%matplotlib inline\n",
    "\n",
    "import tensorflow as tf\n",
    "import numpy as np\n",
    "from qutip import *\n",
    "import itertools as it\n",
    "import matplotlib.pyplot as plt"
   ]
  },
  {
   "cell_type": "markdown",
   "metadata": {},
   "source": [
    "# Autoencoder Attempt to Classify Product State"
   ]
  },
  {
   "cell_type": "markdown",
   "metadata": {},
   "source": [
    "We will train an unsupervised neural network to reproduce a density matrix from a set of generated density matrices. The learning algorithm will attempt to minimize the trace distance between the original $\\rho$ and the autoencoded $\\rho$. While a large linear network could easily reproduce the density matrix, we will use a small, non-linear network in hopes that the compression will most easily handle product state than entangled states.\n",
    "\n",
    "We begin by generating data from simulated density matrices."
   ]
  },
  {
   "cell_type": "code",
   "execution_count": 30,
   "metadata": {
    "collapsed": true
   },
   "outputs": [],
   "source": [
    "N=2 # The number of qubits we're simulating\n",
    "train_size = 5000 #The number of training examples we'll generate\n",
    "test_size = 500 #The number of test examples"
   ]
  },
  {
   "cell_type": "markdown",
   "metadata": {},
   "source": [
    "The following code performs a simulated complete tomography experiment on a given quantum state. The output of experiment gives us a $2^{2n}$ dimensional vector which represents the density matrix in the Pauli basis"
   ]
  },
  {
   "cell_type": "code",
   "execution_count": 31,
   "metadata": {
    "collapsed": true
   },
   "outputs": [],
   "source": [
    "def experiment(phi,m=100,exact=True):\n",
    "    #initialization\n",
    "    res = []\n",
    "    s = [qeye(2), sigmax(), sigmay(), sigmaz()]\n",
    "    olist = []\n",
    "    for i in it.product(range(4), repeat=N):\n",
    "        temp = []\n",
    "        for j in i:\n",
    "            temp.append(s[j])\n",
    "        tempop = tensor(temp)\n",
    "        olist.append(tempop)\n",
    "    if exact:\n",
    "        res = [expect(o,phi) for o in olist]\n",
    "    \n",
    "    else:\n",
    "        for o in olist:\n",
    "            vals, vecs = o.eigenstates()\n",
    "            ps = expect(ket2dm(phi),vecs)\n",
    "            ps = ps\n",
    "            out = np.random.choice(vals, m, p=ps)\n",
    "            res.append(np.mean(out))\n",
    "    \n",
    "    return res \n",
    "\n",
    "def gen_entangled():\n",
    "    phi0 = 1/np.sqrt(2)*(tensor([basis(2,0) for dummy in range(N)]) + tensor([basis(2,1) for dummy in range(N)]))\n",
    "    U = tensor([rand_unitary(2) for dummy in range(N)])\n",
    "    return U*phi0 \n",
    "\n",
    "def gen_prod():\n",
    "    phi0 = tensor([basis(2,0) for dummy in range(N)])\n",
    "    U = tensor([rand_unitary(2) for dummy in range(N)])\n",
    "    return U*phi0"
   ]
  },
  {
   "cell_type": "markdown",
   "metadata": {},
   "source": [
    "Now, we generate product state data on which to train the network"
   ]
  },
  {
   "cell_type": "code",
   "execution_count": 32,
   "metadata": {
    "collapsed": false
   },
   "outputs": [],
   "source": [
    "prod = [experiment(gen_prod()) for dummy in range(train_size)]\n",
    "product_data = np.asarray(prod)"
   ]
  },
  {
   "cell_type": "markdown",
   "metadata": {},
   "source": [
    "We also generate product state and entangled state data for testing the trained network"
   ]
  },
  {
   "cell_type": "code",
   "execution_count": 33,
   "metadata": {
    "collapsed": true
   },
   "outputs": [],
   "source": [
    "entangled_test = np.asarray([experiment(gen_entangled()) for dummy in range(test_size)])\n",
    "product_test = np.asarray([experiment(gen_prod()) for dummy in range(test_size)])"
   ]
  },
  {
   "cell_type": "markdown",
   "metadata": {},
   "source": [
    "## Autoencoder definition and training"
   ]
  },
  {
   "cell_type": "markdown",
   "metadata": {},
   "source": [
    "We define a simple, single layer autoencoder. This will encode the density matrix elements into a $n_{hidden}$ dimensional vector and then attempt to approximate the original state by decoding. Below, we define the model and its parameters. Much of this code was borrowed from/inspired by https://github.com/aymericdamien/TensorFlow-Examples/blob/master/examples/3_NeuralNetworks/autoencoder.py"
   ]
  },
  {
   "cell_type": "code",
   "execution_count": 59,
   "metadata": {
    "collapsed": true
   },
   "outputs": [],
   "source": [
    "# Network Parameters\n",
    "n_hidden_1 = 4 # 1st layer num features\n",
    "n_input = 4**N # Input data from all tomography results\n",
    "batch_size = 50 # Define how many examples to feed in at once\n",
    "batches = 100 #How many batches we train on before testing"
   ]
  },
  {
   "cell_type": "code",
   "execution_count": 60,
   "metadata": {
    "collapsed": true
   },
   "outputs": [],
   "source": [
    "X = tf.placeholder(tf.float32, [None, n_input]) #Defining the placeholder for the data"
   ]
  },
  {
   "cell_type": "code",
   "execution_count": 61,
   "metadata": {
    "collapsed": true
   },
   "outputs": [],
   "source": [
    "weights = {\n",
    "    'encoder_h1': tf.Variable(tf.random_normal([n_input, n_hidden_1])),\n",
    "    'decoder_h1': tf.Variable(tf.random_normal([n_hidden_1, n_input])),\n",
    "}\n",
    "biases = {\n",
    "    'encoder_b1': tf.Variable(tf.random_normal([n_hidden_1])),\n",
    "    'decoder_b1': tf.Variable(tf.random_normal([n_input])),\n",
    "}"
   ]
  },
  {
   "cell_type": "code",
   "execution_count": 62,
   "metadata": {
    "collapsed": true
   },
   "outputs": [],
   "source": [
    "#Build the encoder\n",
    "def encoder(x):\n",
    "    # Encoder Hidden layer with sigmoid activation #1\n",
    "    layer_1 = tf.nn.sigmoid(tf.add(tf.matmul(x, weights['encoder_h1']),biases['encoder_b1']))\n",
    "    \n",
    "    return layer_1\n",
    "\n",
    "# Building the decoder\n",
    "def decoder(x):\n",
    "    # Encoder Hidden layer with sigmoid activation #1\n",
    "    layer_1 = tf.nn.sigmoid(tf.matmul(x, weights['decoder_h1'])+ biases['decoder_b1'])\n",
    "    return layer_1"
   ]
  },
  {
   "cell_type": "code",
   "execution_count": 63,
   "metadata": {
    "collapsed": true
   },
   "outputs": [],
   "source": [
    "# Construct model\n",
    "encoder_op = encoder(X)\n",
    "decoder_op = decoder(encoder_op)\n",
    "\n",
    "# Prediction\n",
    "y_pred = decoder_op\n",
    "# Targets (Labels) are the input data.\n",
    "y_true = X"
   ]
  },
  {
   "cell_type": "markdown",
   "metadata": {},
   "source": [
    "Finally, we introduce the cost function, a squared difference (which is conveniently the trace distance) and initialize the network."
   ]
  },
  {
   "cell_type": "code",
   "execution_count": 64,
   "metadata": {
    "collapsed": true
   },
   "outputs": [],
   "source": [
    "# Define loss and optimizer, minimize the trace distance\n",
    "cost = tf.reduce_mean(tf.pow(y_true - y_pred, 2))\n",
    "optimizer = tf.train.AdamOptimizer(.2).minimize(cost)\n",
    "\n",
    "# Initializing the variables\n",
    "sess = tf.InteractiveSession()\n",
    "tf.global_variables_initializer().run()"
   ]
  },
  {
   "cell_type": "code",
   "execution_count": 65,
   "metadata": {
    "collapsed": false
   },
   "outputs": [],
   "source": [
    "for batch in range(batches):\n",
    "    batch_xs = product_data[batch_size*batch:batch_size*(batch+1)].astype('float32')\n",
    "    sess.run(optimizer, feed_dict={X: batch_xs})"
   ]
  },
  {
   "cell_type": "markdown",
   "metadata": {},
   "source": [
    "After training, we can compute the average value of the cost function on our test data"
   ]
  },
  {
   "cell_type": "code",
   "execution_count": 66,
   "metadata": {
    "collapsed": false
   },
   "outputs": [
    {
     "name": "stdout",
     "output_type": "stream",
     "text": [
      "0.0229283\n"
     ]
    }
   ],
   "source": [
    "print(sess.run(cost, feed_dict={X: product_test}))"
   ]
  },
  {
   "cell_type": "markdown",
   "metadata": {},
   "source": [
    "The cost is quite low, meaning our machine is very good at approximating product states. Now we can see how it performs on entangled states."
   ]
  },
  {
   "cell_type": "code",
   "execution_count": 67,
   "metadata": {
    "collapsed": false
   },
   "outputs": [
    {
     "name": "stdout",
     "output_type": "stream",
     "text": [
      "0.25407\n"
     ]
    }
   ],
   "source": [
    "print(sess.run(cost, feed_dict={X: entangled_test}))"
   ]
  },
  {
   "cell_type": "markdown",
   "metadata": {},
   "source": [
    "Unsurprisingly, the machine is terrible at approximating entangled states, but let's plot the cost for each example and see if it can distinguish the two."
   ]
  },
  {
   "cell_type": "code",
   "execution_count": 68,
   "metadata": {
    "collapsed": false
   },
   "outputs": [
    {
     "data": {
      "text/plain": [
       "<matplotlib.text.Text at 0x11fc60e48>"
      ]
     },
     "execution_count": 68,
     "metadata": {},
     "output_type": "execute_result"
    },
    {
     "data": {
      "image/png": "[encoded data removed]",
      "text/plain": [
       "<matplotlib.figure.Figure at 0x11f660eb8>"
      ]
     },
     "metadata": {},
     "output_type": "display_data"
    }
   ],
   "source": [
    "scatter_index = np.arange(0,test_size)\n",
    "plt.scatter(scatter_index,sess.run(tf.reduce_mean(tf.pow(y_true - y_pred, 2),1),feed_dict={X: entangled_test}),\n",
    "            label='Entangled')\n",
    "plt.scatter(scatter_index,sess.run(tf.reduce_mean(tf.pow(y_true - y_pred, 2),1),feed_dict={X: product_test}),\n",
    "            color='r',label='Product')\n",
    "plt.legend()\n",
    "plt.ylabel('Trace Distance')\n",
    "plt.title('Test Trace Distance for Product-State Trained Autoencoder (4 Hidden Neurons)')"
   ]
  },
  {
   "cell_type": "markdown",
   "metadata": {},
   "source": [
    "Here we see a full separation between product and entangled states. We could use the cost from this neural network to determine whether a given density matrix is entangled or not"
   ]
  },
  {
   "cell_type": "code",
   "execution_count": null,
   "metadata": {
    "collapsed": true
   },
   "outputs": [],
   "source": []
  }
 ],
 "metadata": {
  "kernelspec": {
   "display_name": "Python [conda root]",
   "language": "python",
   "name": "conda-root-py"
  },
  "language_info": {
   "codemirror_mode": {
    "name": "ipython",
    "version": 3
   },
   "file_extension": ".py",
   "mimetype": "text/x-python",
   "name": "python",
   "nbconvert_exporter": "python",
   "pygments_lexer": "ipython3",
   "version": "3.5.2"
  }
 },
 "nbformat": 4,
 "nbformat_minor": 1
}
